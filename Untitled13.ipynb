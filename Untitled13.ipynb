{
  "nbformat": 4,
  "nbformat_minor": 0,
  "metadata": {
    "colab": {
      "provenance": [],
      "authorship_tag": "ABX9TyMMnYeVZGIVnCReOUtm9161",
      "include_colab_link": true
    },
    "kernelspec": {
      "name": "python3",
      "display_name": "Python 3"
    },
    "language_info": {
      "name": "python"
    }
  },
  "cells": [
    {
      "cell_type": "markdown",
      "metadata": {
        "id": "view-in-github",
        "colab_type": "text"
      },
      "source": [
        "<a href=\"https://colab.research.google.com/github/archimisra/More-Python-sample-q-s/blob/main/Untitled13.ipynb\" target=\"_parent\"><img src=\"https://colab.research.google.com/assets/colab-badge.svg\" alt=\"Open In Colab\"/></a>"
      ]
    },
    {
      "cell_type": "code",
      "execution_count": 5,
      "metadata": {
        "colab": {
          "base_uri": "https://localhost:8080/"
        },
        "id": "1gcrYTBXoE7i",
        "outputId": "e8bdce57-e983-41ff-d652-cf630b8aa357"
      },
      "outputs": [
        {
          "output_type": "stream",
          "name": "stdout",
          "text": [
            "3\n"
          ]
        }
      ],
      "source": [
        "a = [1,2,3,44,5,5,5]\n",
        "element = 5\n",
        "count = a.count(element)\n",
        "print(count)"
      ]
    },
    {
      "cell_type": "code",
      "source": [
        "a = [1,2,3,4,5,6]\n",
        "unique_list = [1,2,3,4,5]\n",
        "print(\"original list:\", a)\n",
        "print(\"list after removing duplicates:\", unique_list)"
      ],
      "metadata": {
        "colab": {
          "base_uri": "https://localhost:8080/"
        },
        "id": "6smbusTi0D8P",
        "outputId": "f8b49d0d-81b8-4ef1-c504-e83a5f9fbc00"
      },
      "execution_count": 9,
      "outputs": [
        {
          "output_type": "stream",
          "name": "stdout",
          "text": [
            "original list: [1, 2, 3, 4, 5, 6]\n",
            "list after removing duplicates: [1, 2, 3, 4, 5]\n"
          ]
        }
      ]
    },
    {
      "cell_type": "code",
      "source": [
        "a = [1,2,3,4,5]\n",
        "reversed_list = []\n",
        "for items in a:\n",
        "  reversed_list.insert(0, items)\n",
        "print(\"reversed list:\", reversed_list)\n",
        "\n"
      ],
      "metadata": {
        "colab": {
          "base_uri": "https://localhost:8080/"
        },
        "id": "rQfasOHc1qrP",
        "outputId": "3d50592b-8e78-43ec-d1b7-21c4f930ab5e"
      },
      "execution_count": 10,
      "outputs": [
        {
          "output_type": "stream",
          "name": "stdout",
          "text": [
            "reversed list: [5, 4, 3, 2, 1]\n"
          ]
        }
      ]
    },
    {
      "cell_type": "code",
      "source": [
        "a = [1,2,3,4,5,6,7,89,0]\n",
        "a.sort()\n",
        "print(\"sorted list:\", a)"
      ],
      "metadata": {
        "colab": {
          "base_uri": "https://localhost:8080/"
        },
        "id": "nlUtWHmc2k65",
        "outputId": "a5d785d0-550e-45ea-e676-d6b98c17c617"
      },
      "execution_count": 11,
      "outputs": [
        {
          "output_type": "stream",
          "name": "stdout",
          "text": [
            "sorted list: [0, 1, 2, 3, 4, 5, 6, 7, 89]\n"
          ]
        }
      ]
    },
    {
      "cell_type": "code",
      "source": [
        "a = [1,2,3,4]\n",
        "b = [\"apples\", \"mangoes\", \"cherries\"]\n",
        "merged_list = a+b\n",
        "print(\"list 1:\",a)\n",
        "print(\"list 2:\", b)\n",
        "print(\"merged list:\", merged_list)"
      ],
      "metadata": {
        "colab": {
          "base_uri": "https://localhost:8080/"
        },
        "id": "58w5Co6F39cR",
        "outputId": "0291f548-90e4-4b0c-ddd7-37c0a2da0836"
      },
      "execution_count": 12,
      "outputs": [
        {
          "output_type": "stream",
          "name": "stdout",
          "text": [
            "list 1: [1, 2, 3, 4]\n",
            "list 2: ['apples', 'mangoes', 'cherries']\n",
            "merged list: [1, 2, 3, 4, 'apples', 'mangoes', 'cherries']\n"
          ]
        }
      ]
    },
    {
      "cell_type": "code",
      "source": [
        "a = [1,23,43,11,56]\n",
        "a.sort()\n",
        "second_largest = a[-2]\n",
        "print(\"second largest element is:\", second_largest)"
      ],
      "metadata": {
        "colab": {
          "base_uri": "https://localhost:8080/"
        },
        "id": "--gSwib644oC",
        "outputId": "e6fa8bd0-2c9b-47f4-f41d-3d5c213a8098"
      },
      "execution_count": 14,
      "outputs": [
        {
          "output_type": "stream",
          "name": "stdout",
          "text": [
            "second largest element is: 43\n"
          ]
        }
      ]
    },
    {
      "cell_type": "code",
      "source": [
        "a = [1,2,3,4,5,6,7,8]\n",
        "even_numbers=[]\n",
        "odd_numbers=[]\n",
        "for num in a:\n",
        "  if num % 2 == 0:\n",
        "    even_numbers.append(num)\n",
        "  else:\n",
        "    odd_numbers.append(num)\n",
        "print(\"original list:\", a)\n",
        "print(\"even numbers:\", even_numbers)\n",
        "print(\"odd numbers:\", odd_numbers)\n"
      ],
      "metadata": {
        "colab": {
          "base_uri": "https://localhost:8080/"
        },
        "id": "c4RKxo6h4w0b",
        "outputId": "c6a17c5f-f2cb-4bca-abbe-c25d491358d4"
      },
      "execution_count": 17,
      "outputs": [
        {
          "output_type": "stream",
          "name": "stdout",
          "text": [
            "original list: [1, 2, 3, 4, 5, 6, 7, 8]\n",
            "even numbers: [2, 4, 6, 8]\n",
            "odd numbers: [1, 3, 5, 7]\n"
          ]
        }
      ]
    },
    {
      "cell_type": "code",
      "source": [
        "a = [1,2,3,4]\n",
        "b = [4,5,6,7]\n",
        "common=[]\n",
        "for item in a:\n",
        "  if item in b and item not in common:\n",
        "    common.append(item)\n",
        "print(\"list 1:\", a)\n",
        "print(\"list 2:\", b)\n",
        "print(\"common elements:\", common)"
      ],
      "metadata": {
        "colab": {
          "base_uri": "https://localhost:8080/"
        },
        "id": "cgJuk7jXWN2I",
        "outputId": "70ef158d-768a-40cd-bf7a-0def0c12e79e"
      },
      "execution_count": 3,
      "outputs": [
        {
          "output_type": "stream",
          "name": "stdout",
          "text": [
            "list 1: [1, 2, 3, 4]\n",
            "list 2: [4, 5, 6, 7]\n",
            "common elements: [4]\n"
          ]
        }
      ]
    },
    {
      "cell_type": "code",
      "source": [
        "def is_prime(num):\n",
        "  if num<=1:\n",
        "    return False\n",
        "  for i in range(2, int(num**0.5)+1):\n",
        "    if num%i == 0:\n",
        "      return False\n",
        "  return True\n",
        "\n",
        "a = [1,2,3,4,5,6,7,8,9,11,22,23]\n",
        "prime_numbers=[]\n",
        "for num in a:\n",
        "  if is_prime(num):\n",
        "    prime_numbers.append(num)\n",
        "print(\"original list:\", a)\n",
        "print(\"prime numbers:\", prime_numbers)"
      ],
      "metadata": {
        "colab": {
          "base_uri": "https://localhost:8080/"
        },
        "id": "Gfb6L8Wp7ykm",
        "outputId": "b41016aa-cdc9-4275-b6c2-60729919c7d7"
      },
      "execution_count": 5,
      "outputs": [
        {
          "output_type": "stream",
          "name": "stdout",
          "text": [
            "original list: [1, 2, 3, 4, 5, 6, 7, 8, 9, 11, 22, 23]\n",
            "prime numbers: [2, 3, 5, 7, 11, 23]\n"
          ]
        }
      ]
    },
    {
      "cell_type": "code",
      "source": [
        "matrix = [\n",
        "    [1,2,3],\n",
        "    [4,5,6],\n",
        "    [7,8,9]\n",
        "]\n",
        "\n",
        "print(\"matrix in normal form:\")\n",
        "for row in matrix:\n",
        "  for element in row:\n",
        "    print(element, end = \" \")\n",
        "  print()\n"
      ],
      "metadata": {
        "colab": {
          "base_uri": "https://localhost:8080/"
        },
        "id": "F9HQfeCkbF7o",
        "outputId": "f918c5de-6f28-4641-b343-0a50217bd7e2"
      },
      "execution_count": 7,
      "outputs": [
        {
          "output_type": "stream",
          "name": "stdout",
          "text": [
            "matrix in normal form:\n",
            "1 2 3 \n",
            "4 5 6 \n",
            "7 8 9 \n"
          ]
        }
      ]
    }
  ]
}